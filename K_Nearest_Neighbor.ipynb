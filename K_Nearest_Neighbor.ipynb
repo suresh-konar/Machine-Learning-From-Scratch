{
 "cells": [
  {
   "cell_type": "markdown",
   "id": "e3b270a4",
   "metadata": {},
   "source": [
    "# K-Nearest Neighbors"
   ]
  },
  {
   "cell_type": "code",
   "execution_count": 2,
   "id": "5e4621ba",
   "metadata": {},
   "outputs": [],
   "source": [
    "#Importing libraries    \n",
    "import numpy as np\n",
    "from collections import Counter\n",
    "from matplotlib.colors import ListedColormap\n",
    "from sklearn import datasets\n",
    "from sklearn.model_selection import train_test_split\n",
    "import matplotlib.pyplot as plt"
   ]
  },
  {
   "cell_type": "code",
   "execution_count": 12,
   "id": "13b4f91f",
   "metadata": {},
   "outputs": [],
   "source": [
    "def euclidian_distance(x1, x2):\n",
    "    return np.sqrt(np.sum((x1 -x2)**2))\n",
    "    \n",
    "class KNN:\n",
    "    def __init__(self,k=3):\n",
    "        self.k = k\n",
    "        \n",
    "    def fit(self, X,y):\n",
    "        self.X_train = X\n",
    "        self.y_train = y\n",
    "    \n",
    "    def predict(self, X):\n",
    "        predicted_labels = [self._pred(i) for i in X]\n",
    "        return np.array(predicted_labels)\n",
    "    \n",
    "    def _pred(self, X):\n",
    "        #compute distance\n",
    "        distance = [euclidian_distance(X, j) for j in self.X_train]\n",
    "        \n",
    "        #get k nearest samples, labels\n",
    "        k_indices = np.argsort(distance)[:self.k]\n",
    "        k_nearest_labels = [self.y_train[i] for i in k_indices]\n",
    "        \n",
    "        #Most common/majority vote\n",
    "        most_common = Counter(k_nearest_labels).most_common(1)\n",
    "        return most_common[0][0]"
   ]
  },
  {
   "cell_type": "code",
   "execution_count": 16,
   "id": "827e8c43",
   "metadata": {},
   "outputs": [],
   "source": [
    "#Creating dataset\n",
    "iris = datasets. load_iris()\n",
    "X,y = iris.data , iris.target\n",
    "X_train, X_test, y_train, y_test = train_test_split(X, y, test_size=0.2, random_state=1234)\n"
   ]
  },
  {
   "cell_type": "code",
   "execution_count": 17,
   "id": "9bb6e827",
   "metadata": {},
   "outputs": [],
   "source": [
    "#Modeling\n",
    "clf = KNN(k=5)\n",
    "clf.fit(X_train, y_train)\n",
    "predictions = clf.predict(X_test)"
   ]
  },
  {
   "cell_type": "code",
   "execution_count": 18,
   "id": "010ed7c9",
   "metadata": {},
   "outputs": [
    {
     "data": {
      "text/plain": [
       "0.9666666666666667"
      ]
     },
     "execution_count": 18,
     "metadata": {},
     "output_type": "execute_result"
    }
   ],
   "source": [
    "#Metric\n",
    "def accuracy(y, y_pred):\n",
    "    accuracy = np.sum(y == y_pred) / len(y)\n",
    "    return accuracy\n",
    "\n",
    "accuracy(y_test, predictions)"
   ]
  },
  {
   "cell_type": "code",
   "execution_count": null,
   "id": "3d09bf71",
   "metadata": {},
   "outputs": [],
   "source": []
  }
 ],
 "metadata": {
  "kernelspec": {
   "display_name": "Python 3 (ipykernel)",
   "language": "python",
   "name": "python3"
  },
  "language_info": {
   "codemirror_mode": {
    "name": "ipython",
    "version": 3
   },
   "file_extension": ".py",
   "mimetype": "text/x-python",
   "name": "python",
   "nbconvert_exporter": "python",
   "pygments_lexer": "ipython3",
   "version": "3.9.13"
  }
 },
 "nbformat": 4,
 "nbformat_minor": 5
}
