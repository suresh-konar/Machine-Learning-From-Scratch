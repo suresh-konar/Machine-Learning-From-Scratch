{
 "cells": [
  {
   "cell_type": "markdown",
   "id": "f7c79aba",
   "metadata": {},
   "source": [
    "# Principal Component Analysis (PCA)"
   ]
  },
  {
   "cell_type": "markdown",
   "id": "0eacee42",
   "metadata": {},
   "source": [
    "### Approach\t\n",
    "    1) Subtract the mean from X\n",
    "\t2) Calculate the Covariance\n",
    "\t3) Calculate the eigenvectors and eigenvalues of cov matrix\n",
    "\t4) Sort the e-vec according to their e-values in decreasing order\n",
    "\t5) Choose first k e-vec and that will be the new k dimension\n",
    "\t6) Transform the orignal n dim data points into k dim (Projections with dot product)"
   ]
  },
  {
   "cell_type": "code",
   "execution_count": null,
   "id": "e8430ca4",
   "metadata": {},
   "outputs": [],
   "source": [
    "import numpy as np\n",
    "\n",
    "class my_pca:\n",
    "    def __init__(self, n_components):\n",
    "        self.n_components = n_components\n",
    "        self.components = None\n",
    "        self.mean = None\n",
    "        self.eigenvalues = None\n",
    "        self.explained_variance = None\n",
    "        self.cumulative_variance = None\n",
    "        \n",
    "    def fit(self, X):\n",
    "        #mean\n",
    "        self.mean = np.mean(X, axis = 0) # column wise\n",
    "        X = X - self.mean\n",
    "        \n",
    "        #Covariance\n",
    "        cov = np.cov(X.T)\n",
    "        \n",
    "        #eigenvalues, eigenvectors\n",
    "        eigenvalues, eigenvectors = np.linalg.eig(cov)\n",
    "        \n",
    "        #Sort eigenvectors\n",
    "        eigenvectors = eigenvectors.T\n",
    "        index = np.argsort(eigenvalues)[::-1] # Descending order\n",
    "        eigenvalues = eigenvalues[index]\n",
    "        eigenvectors = eigenvectors[index]\n",
    "        \n",
    "        #Store first n eigenvectors\n",
    "        self.components = eigenvectors[0 : self.n_components]\n",
    "        self.eigenvalues = eigenvalues[0 : self.n_components]\n",
    "        \n",
    "        # Calculate explained variance and cumulative variance\n",
    "        sum_eig_val = np.sum(self.eigenvalues)\n",
    "        self.explained_variance = self.eigenvalues / sum_eig_val\n",
    "        self.cumulative_variance = np.cumsum(self.explained_variance)\n",
    "        \n",
    "    def transform(self, X):\n",
    "        #project data\n",
    "        X = X - self.mean\n",
    "        return np.dot(X, self.components.T)\n",
    "        \n",
    "    def get_eigenvalues(self):\n",
    "        # Access the eigenvalues\n",
    "        return self.eigenvalues\n",
    "    \n",
    "    def get_explained_variance(self):\n",
    "        # Access the explained variance\n",
    "        return self.explained_variance\n",
    "    \n",
    "    def get_cumulative_variance(self):\n",
    "        # Access the cumulative variance\n",
    "        return self.cumulative_variance\n",
    "        "
   ]
  },
  {
   "cell_type": "code",
   "execution_count": 1,
   "id": "6ff7a636",
   "metadata": {},
   "outputs": [],
   "source": [
    "#Import libraries\n",
    "from sklearn import datasets\n",
    "import matplotlib.pyplot as plt\n",
    "import numpy as np\n",
    "import pandas as pd\n"
   ]
  },
  {
   "cell_type": "code",
   "execution_count": 2,
   "id": "88c06145",
   "metadata": {},
   "outputs": [],
   "source": [
    "#Load dataset\n",
    "data = datasets.load_iris()\n",
    "X = data.data\n",
    "y = data.target"
   ]
  },
  {
   "cell_type": "markdown",
   "id": "0e5d5544",
   "metadata": {},
   "source": [
    "## Statistical Tests to be done for PCA"
   ]
  },
  {
   "cell_type": "markdown",
   "id": "1b6ead61",
   "metadata": {},
   "source": [
    "The following are the 2 tests that we perform on the dataset to identify whether to perform PCA on the given dataset or not to perform the same.\n",
    "\n",
    "#### 1. Bartlett’s Test of Sphericity: \n",
    "\t\n",
    "    It tests the hypothesis that the variables are uncorrelated within the population.\n",
    "\n",
    "\tH0: Null Hypothesis: All variables in the data are uncorrelated.\n",
    "\n",
    "\tHa: Alternate Hypothesis: At least one pair of variables in the data are correlated if the null hypothesis cannot be \trejected, then PCA is not advisable."
   ]
  },
  {
   "cell_type": "code",
   "execution_count": 3,
   "id": "2e97ad11",
   "metadata": {},
   "outputs": [
    {
     "data": {
      "text/plain": [
       "1.9226796044118258e-149"
      ]
     },
     "execution_count": 3,
     "metadata": {},
     "output_type": "execute_result"
    }
   ],
   "source": [
    "from factor_analyzer.factor_analyzer import calculate_bartlett_sphericity\n",
    "chi_square_value,p_value = calculate_bartlett_sphericity(X)\n",
    "p_value"
   ]
  },
  {
   "cell_type": "markdown",
   "id": "837b2733",
   "metadata": {},
   "source": [
    "For our dataset p_value is 0.0 which is less than 0.05. Hence we can reject the Null Hypothesis and agree that there is at least one pair of variables in the data which are correlated. Hence, PCA is recommended."
   ]
  },
  {
   "cell_type": "markdown",
   "id": "5599eba7",
   "metadata": {},
   "source": [
    "#### 2.Kaiser- Meyer- Olkin (KMO): \n",
    "\n",
    "\tA Measure of Sampling Adequacy (MSA) is an index used to determine how appropriate PCA is. Generally, if MSA is less than 0.5, PCA is not recommended, since no reduction is expected. On the other hand, MSA>0.7 is expected to provide a considerable reduction in the dimension and extraction of meaningful components."
   ]
  },
  {
   "cell_type": "code",
   "execution_count": 5,
   "id": "c8d539b4",
   "metadata": {},
   "outputs": [
    {
     "data": {
      "text/plain": [
       "0.5400766750097201"
      ]
     },
     "execution_count": 5,
     "metadata": {},
     "output_type": "execute_result"
    }
   ],
   "source": [
    "from factor_analyzer.factor_analyzer import calculate_kmo\n",
    "kmo_all,kmo_model=calculate_kmo(X)\n",
    "kmo_model"
   ]
  },
  {
   "cell_type": "code",
   "execution_count": null,
   "id": "5881ce5b",
   "metadata": {},
   "outputs": [],
   "source": [
    "#Project data onto the 2 primary principal components\n",
    "pca = my_pca(2)\n",
    "pca.fit(X)\n",
    "X_projected = pca.transform(X)"
   ]
  },
  {
   "cell_type": "code",
   "execution_count": null,
   "id": "3130b1e2",
   "metadata": {},
   "outputs": [],
   "source": [
    "pca.get_explained_variance()"
   ]
  },
  {
   "cell_type": "code",
   "execution_count": null,
   "id": "4f0f89f2",
   "metadata": {},
   "outputs": [],
   "source": [
    "pca.get_cumulative_variance()"
   ]
  },
  {
   "cell_type": "code",
   "execution_count": null,
   "id": "f6a52860",
   "metadata": {},
   "outputs": [],
   "source": [
    "print('Shape of X', X.shape)\n",
    "print('Shape of Transformed X', X_projected.shape)"
   ]
  },
  {
   "cell_type": "code",
   "execution_count": null,
   "id": "341e2346",
   "metadata": {},
   "outputs": [],
   "source": [
    "plt.figure(figsize=(8,6))\n",
    "plt.scatter(X_projected[:,0], X_projected[:,1], c = y, alpha=0.8, cmap = plt.cm.get_cmap('viridis',3))\n",
    "plt.xlabel('First Principal Component')\n",
    "plt.ylabel('Second Principal Component')"
   ]
  },
  {
   "cell_type": "code",
   "execution_count": null,
   "id": "a444e35f",
   "metadata": {},
   "outputs": [],
   "source": []
  },
  {
   "cell_type": "markdown",
   "id": "8140abb3",
   "metadata": {},
   "source": [
    "## Using Predefined Function"
   ]
  },
  {
   "cell_type": "code",
   "execution_count": 6,
   "id": "e186599d",
   "metadata": {},
   "outputs": [],
   "source": [
    "data = datasets.load_iris()\n",
    "X = data.data\n",
    "y = data.target\n"
   ]
  },
  {
   "cell_type": "code",
   "execution_count": 7,
   "id": "b740d690",
   "metadata": {},
   "outputs": [
    {
     "data": {
      "text/plain": [
       "StandardScaler()"
      ]
     },
     "execution_count": 7,
     "metadata": {},
     "output_type": "execute_result"
    }
   ],
   "source": [
    "#Standardization\n",
    "from sklearn.preprocessing import StandardScaler\n",
    "scaler = StandardScaler()\n",
    "scaler.fit(X)"
   ]
  },
  {
   "cell_type": "code",
   "execution_count": 8,
   "id": "1a6031b3",
   "metadata": {},
   "outputs": [],
   "source": [
    "scaled_data = scaler.transform(X)"
   ]
  },
  {
   "cell_type": "code",
   "execution_count": null,
   "id": "e5a706d7",
   "metadata": {},
   "outputs": [],
   "source": [
    "#Applying PCA Algorithm\n",
    "from sklearn.decomposition import PCA\n",
    "pca = PCA(n_components =2)"
   ]
  },
  {
   "cell_type": "code",
   "execution_count": null,
   "id": "033bc879",
   "metadata": {},
   "outputs": [],
   "source": [
    "data_pca = pca.fit_transform(scaled_data)"
   ]
  },
  {
   "cell_type": "code",
   "execution_count": null,
   "id": "d3040dfe",
   "metadata": {},
   "outputs": [],
   "source": [
    "pca.explained_variance_"
   ]
  },
  {
   "cell_type": "code",
   "execution_count": null,
   "id": "5a6a1047",
   "metadata": {},
   "outputs": [],
   "source": [
    "plt.figure(figsize=(8,6))\n",
    "plt.scatter(data_pca[:,0], data_pca[:,1], c = y, alpha=0.8, cmap = plt.cm.get_cmap('viridis',3))\n",
    "plt.xlabel('First Principal Component')\n",
    "plt.ylabel('Second Principal Component')"
   ]
  },
  {
   "cell_type": "code",
   "execution_count": null,
   "id": "fa8cd350",
   "metadata": {},
   "outputs": [],
   "source": []
  },
  {
   "cell_type": "code",
   "execution_count": null,
   "id": "3a62eaaf",
   "metadata": {},
   "outputs": [],
   "source": []
  }
 ],
 "metadata": {
  "kernelspec": {
   "display_name": "Python 3 (ipykernel)",
   "language": "python",
   "name": "python3"
  },
  "language_info": {
   "codemirror_mode": {
    "name": "ipython",
    "version": 3
   },
   "file_extension": ".py",
   "mimetype": "text/x-python",
   "name": "python",
   "nbconvert_exporter": "python",
   "pygments_lexer": "ipython3",
   "version": "3.9.13"
  }
 },
 "nbformat": 4,
 "nbformat_minor": 5
}
